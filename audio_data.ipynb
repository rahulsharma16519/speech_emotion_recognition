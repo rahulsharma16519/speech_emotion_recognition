{
  "nbformat": 4,
  "nbformat_minor": 0,
  "metadata": {
    "colab": {
      "name": "audio_data.ipynb",
      "provenance": [],
      "collapsed_sections": []
    },
    "kernelspec": {
      "name": "python3",
      "display_name": "Python 3"
    },
    "language_info": {
      "name": "python"
    }
  },
  "cells": [
    {
      "cell_type": "code",
      "metadata": {
        "colab": {
          "base_uri": "https://localhost:8080/"
        },
        "id": "RMVxTWZH-0TE",
        "outputId": "cec591a5-44a8-4c3b-b76d-a614e11c3d41"
      },
      "source": [
        "!pip install pydub"
      ],
      "execution_count": 2,
      "outputs": [
        {
          "output_type": "stream",
          "text": [
            "Collecting pydub\n",
            "  Downloading https://files.pythonhosted.org/packages/a6/53/d78dc063216e62fc55f6b2eebb447f6a4b0a59f55c8406376f76bf959b08/pydub-0.25.1-py2.py3-none-any.whl\n",
            "Installing collected packages: pydub\n",
            "Successfully installed pydub-0.25.1\n"
          ],
          "name": "stdout"
        }
      ]
    },
    {
      "cell_type": "code",
      "metadata": {
        "id": "-JBmIYRx-Rj8"
      },
      "source": [
        "from pydub import AudioSegment as am\n",
        "import os"
      ],
      "execution_count": 19,
      "outputs": []
    },
    {
      "cell_type": "code",
      "metadata": {
        "id": "mVzCN50F-f-r"
      },
      "source": [
        "in_path = \"/content/drive/MyDrive/audio_samples/angry_customer.mp4\"\n",
        "out_path = \"/content/drive/MyDrive/audio_samples/angry_customer_audio.wav\""
      ],
      "execution_count": 20,
      "outputs": []
    },
    {
      "cell_type": "code",
      "metadata": {
        "colab": {
          "base_uri": "https://localhost:8080/"
        },
        "id": "nbntgUZu-iLm",
        "outputId": "d68d70af-fa54-4892-92f3-0792b907dbb6"
      },
      "source": [
        "sound = am.from_file(in_path, format='mp4')\n",
        "sound = sound.set_frame_rate(16000)\n",
        "sound = sound.set_channels(1)\n",
        "sound.export(out_path, format=\"wav\")"
      ],
      "execution_count": 21,
      "outputs": [
        {
          "output_type": "execute_result",
          "data": {
            "text/plain": [
              "<_io.BufferedRandom name='/content/drive/MyDrive/audio_samples/angry_customer_audio.wav'>"
            ]
          },
          "metadata": {
            "tags": []
          },
          "execution_count": 21
        }
      ]
    },
    {
      "cell_type": "code",
      "metadata": {
        "id": "cf9NBT_RO104"
      },
      "source": [
        "from pydub import AudioSegment"
      ],
      "execution_count": 22,
      "outputs": []
    },
    {
      "cell_type": "code",
      "metadata": {
        "id": "QX__gMriO8ET"
      },
      "source": [
        "files_path = '/content/drive/MyDrive/audio_samples/'\n",
        "file_name = 'angry_customer_audio'\n",
        "\n",
        "startMin = 1\n",
        "startSec = 10\n",
        "\n",
        "endMin = 1\n",
        "endSec = 18"
      ],
      "execution_count": 33,
      "outputs": []
    },
    {
      "cell_type": "code",
      "metadata": {
        "colab": {
          "base_uri": "https://localhost:8080/"
        },
        "id": "WDXI8QxZPAWd",
        "outputId": "05054052-78f8-439d-97f7-cd4d78c93592"
      },
      "source": [
        "op_file_name='chunk3_angry'\n",
        "# Time to miliseconds\n",
        "startTime = startMin*60*1000+startSec*1000\n",
        "endTime = endMin*60*1000+endSec*1000\n",
        "\n",
        "# Opening file and extracting segment\n",
        "song = AudioSegment.from_wav( files_path+file_name+'.wav' )\n",
        "extract = song[startTime:endTime]\n",
        "\n",
        "# Saving\n",
        "extract.export( files_path+op_file_name+'.wav', format=\"wav\")"
      ],
      "execution_count": 34,
      "outputs": [
        {
          "output_type": "execute_result",
          "data": {
            "text/plain": [
              "<_io.BufferedRandom name='/content/drive/MyDrive/audio_samples/chunk3_angry.wav'>"
            ]
          },
          "metadata": {
            "tags": []
          },
          "execution_count": 34
        }
      ]
    },
    {
      "cell_type": "code",
      "metadata": {
        "id": "biY5IycQQsbs"
      },
      "source": [
        "import librosa\n",
        "import numpy as np\n",
        "t_arr = np.zeros((1,13,216))"
      ],
      "execution_count": 35,
      "outputs": []
    },
    {
      "cell_type": "code",
      "metadata": {
        "colab": {
          "base_uri": "https://localhost:8080/"
        },
        "id": "ymavkl9RQwev",
        "outputId": "2f2f343d-ba63-4936-d6e2-63c96d376f9a"
      },
      "source": [
        "X, sample_rate = librosa.load('/content/drive/MyDrive/audio_samples/chunk3_angry.wav', res_type='kaiser_fast',duration=2.5,sr=22050*2,offset=0.5)\n",
        "sample_rate = np.array(sample_rate)\n",
        "mfccs = librosa.feature.mfcc(y=X, sr=sample_rate, n_mfcc=13)\n",
        "\n",
        "result = np.zeros((13,216))\n",
        "result[:mfccs.shape[0],:mfccs.shape[1]] = mfccs\n",
        "t_arr[0] = result\n",
        "\n",
        "t_arr.shape"
      ],
      "execution_count": 36,
      "outputs": [
        {
          "output_type": "execute_result",
          "data": {
            "text/plain": [
              "(1, 13, 216)"
            ]
          },
          "metadata": {
            "tags": []
          },
          "execution_count": 36
        }
      ]
    },
    {
      "cell_type": "code",
      "metadata": {
        "id": "GnOe7P0UQzRZ"
      },
      "source": [
        "test = np.expand_dims(t_arr,axis=3)"
      ],
      "execution_count": 37,
      "outputs": []
    },
    {
      "cell_type": "code",
      "metadata": {
        "id": "t_y1sA8LQ3qQ"
      },
      "source": [
        "import tensorflow as tf\n",
        "loaded_model = tf.keras.models.load_model(\"/content/drive/MyDrive/Datascience_restucture_folder/lstm_2d_Convolution_Ravdess_Shuffled_new.h5\")"
      ],
      "execution_count": 38,
      "outputs": []
    },
    {
      "cell_type": "code",
      "metadata": {
        "colab": {
          "base_uri": "https://localhost:8080/"
        },
        "id": "E_A96STaQ5Mo",
        "outputId": "d2e19379-40d4-49e6-9ea7-ee4d59f34202"
      },
      "source": [
        "pred = loaded_model.predict_classes(test)"
      ],
      "execution_count": 39,
      "outputs": [
        {
          "output_type": "stream",
          "text": [
            "/usr/local/lib/python3.7/dist-packages/tensorflow/python/keras/engine/sequential.py:455: UserWarning: `model.predict_classes()` is deprecated and will be removed after 2021-01-01. Please use instead:* `np.argmax(model.predict(x), axis=-1)`,   if your model does multi-class classification   (e.g. if it uses a `softmax` last-layer activation).* `(model.predict(x) > 0.5).astype(\"int32\")`,   if your model does binary classification   (e.g. if it uses a `sigmoid` last-layer activation).\n",
            "  warnings.warn('`model.predict_classes()` is deprecated and '\n"
          ],
          "name": "stderr"
        }
      ]
    },
    {
      "cell_type": "code",
      "metadata": {
        "id": "vVPCe9_0Q7kz"
      },
      "source": [
        "classes = ['Neutral','Happy','Sad','Angry','Fearful','Disgust','Surprise']"
      ],
      "execution_count": 40,
      "outputs": []
    },
    {
      "cell_type": "code",
      "metadata": {
        "colab": {
          "base_uri": "https://localhost:8080/",
          "height": 35
        },
        "id": "PrJy2Ut7Q-Sv",
        "outputId": "637bbe74-e078-4a7f-eddc-410034404191"
      },
      "source": [
        "classes[pred[0]]"
      ],
      "execution_count": 41,
      "outputs": [
        {
          "output_type": "execute_result",
          "data": {
            "application/vnd.google.colaboratory.intrinsic+json": {
              "type": "string"
            },
            "text/plain": [
              "'Angry'"
            ]
          },
          "metadata": {
            "tags": []
          },
          "execution_count": 41
        }
      ]
    }
  ]
}